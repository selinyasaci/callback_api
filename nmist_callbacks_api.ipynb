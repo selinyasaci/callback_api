{
 "cells": [
  {
   "cell_type": "code",
   "execution_count": 31,
   "id": "9c031095",
   "metadata": {},
   "outputs": [],
   "source": [
    "import keras\n",
    "import tensorflow as tf\n",
    "import matplotlib.pyplot as plt\n"
   ]
  },
  {
   "cell_type": "code",
   "execution_count": 32,
   "id": "d9d35543",
   "metadata": {},
   "outputs": [],
   "source": [
    "#callbackleri tek tek incelerken devamlı grafik çizdircem bunun için bir fonksiyon oluşturcaz\n",
    "def plotData(history,metric):\n",
    "    \n",
    "    train_metrics=history.history[metric]\n",
    "    validation_metrics=history.history[\"val_\"+metric]\n",
    "    \n",
    "    epochs=range(1, len(train_metrics)+1)\n",
    "    \n",
    "    plt.plot(epochs, train_metrics)\n",
    "    plt.plot(epochs, validation_metrics)\n",
    "    \n",
    "    plt.title(\"Training&Validation\"+metric)\n",
    "    plt.xlabel(\"Epochs\")\n",
    "    plt.ylabel(metric)\n",
    "    plt.legend([\"train_\"+metric,\"val_\"+metric])\n",
    "    \n",
    "    plt.show()\n"
   ]
  },
  {
   "cell_type": "code",
   "execution_count": 33,
   "id": "35e56643",
   "metadata": {},
   "outputs": [],
   "source": [
    "def plotLR(history):\n",
    "    \n",
    "    learning_rate=history.history[\"lr\"]\n",
    "   \n",
    "    \n",
    "    epochs=range(1, len(learning_rate)+1)\n",
    "    \n",
    "    plt.plot(epochs, learning_rate)\n",
    "\n",
    "    \n",
    "    plt.title(\"Learning Rate\")\n",
    "    plt.xlabel(\"Epochs\")\n",
    "    plt.ylabel(\"learning rate\")\n",
    "    \n",
    "    plt.show()\n"
   ]
  },
  {
   "cell_type": "code",
   "execution_count": 34,
   "id": "1ead938d",
   "metadata": {},
   "outputs": [
    {
     "name": "stdout",
     "output_type": "stream",
     "text": [
      "Shape of train images (60000, 28, 28)\n",
      "Shape of test images (10000, 28, 28)\n"
     ]
    }
   ],
   "source": [
    "from keras.datasets import mnist\n",
    "\n",
    "(train_images, train_labels)=mnist.load_data()[0]\n",
    "(test_images, test_labels)=mnist.load_data()[1]\n",
    "\n",
    "print(\"Shape of train images\", train_images.shape)\n",
    "print(\"Shape of test images\", test_images.shape)"
   ]
  },
  {
   "cell_type": "code",
   "execution_count": 35,
   "id": "a0c2ceb0",
   "metadata": {},
   "outputs": [],
   "source": [
    "from keras.models import Sequential\n",
    "from keras.layers import Conv2D, Dense, Dropout, Flatten, MaxPooling2D\n",
    "\n",
    "\n",
    "def mnist_model(input_shape):\n",
    "    \n",
    "    model=Sequential([\n",
    "                    Conv2D(28, kernel_size=(3,3), input_shape=input_shape),\n",
    "                    MaxPooling2D(pool_size=(2,2)),\n",
    "                    Flatten(),\n",
    "                    Dense(128, activation=\"relu\"),\n",
    "                    Dropout(0.2),\n",
    "                    Dense(10, activation=\"softmax\")\n",
    "        \n",
    "                    ])\n",
    " \n",
    "\n",
    "    model.compile(optimizer=\"adam\",\n",
    "                  loss=\"sparse_categorical_crossentropy\",\n",
    "                  metrics=[\"accuracy\"]\n",
    "                 )\n",
    "    \n",
    "    return model\n",
    "\n"
   ]
  },
  {
   "cell_type": "code",
   "execution_count": 36,
   "id": "b468d4bf",
   "metadata": {},
   "outputs": [
    {
     "name": "stdout",
     "output_type": "stream",
     "text": [
      "Model: \"sequential_7\"\n",
      "_________________________________________________________________\n",
      " Layer (type)                Output Shape              Param #   \n",
      "=================================================================\n",
      " conv2d_7 (Conv2D)           (None, 26, 26, 28)        280       \n",
      "                                                                 \n",
      " max_pooling2d_7 (MaxPooling  (None, 13, 13, 28)       0         \n",
      " 2D)                                                             \n",
      "                                                                 \n",
      " flatten_7 (Flatten)         (None, 4732)              0         \n",
      "                                                                 \n",
      " dense_14 (Dense)            (None, 128)               605824    \n",
      "                                                                 \n",
      " dropout_7 (Dropout)         (None, 128)               0         \n",
      "                                                                 \n",
      " dense_15 (Dense)            (None, 10)                1290      \n",
      "                                                                 \n",
      "=================================================================\n",
      "Total params: 607,394\n",
      "Trainable params: 607,394\n",
      "Non-trainable params: 0\n",
      "_________________________________________________________________\n"
     ]
    }
   ],
   "source": [
    "input_shape=(28,28,1)\n",
    "model=mnist_model(input_shape)\n",
    "model.summary()"
   ]
  },
  {
   "cell_type": "code",
   "execution_count": 39,
   "id": "3c5ac8cf",
   "metadata": {},
   "outputs": [
    {
     "name": "stdout",
     "output_type": "stream",
     "text": [
      "Epoch 1/50\n",
      "750/750 - 28s - loss: 0.2282 - accuracy: 0.9348 - val_loss: 0.1843 - val_accuracy: 0.9588 - 28s/epoch - 37ms/step\n",
      "Epoch 2/50\n",
      "750/750 - 30s - loss: 0.1849 - accuracy: 0.9465 - val_loss: 0.1504 - val_accuracy: 0.9647 - 30s/epoch - 40ms/step\n"
     ]
    }
   ],
   "source": [
    "from keras.callbacks import EarlyStopping\n",
    "\n",
    "early_stopping = EarlyStopping()\n",
    "# buraya herhangi bir değer girmediğimizden default olarak bazı değerler atanıyor.\n",
    "history_early_stopping=model.fit(\n",
    "                                x=train_images,\n",
    "                                y=train_labels,\n",
    "                                epochs=50,\n",
    "                                validation_split=0.20,\n",
    "                                batch_size=64,\n",
    "                                verbose=2,\n",
    "                                callbacks=[early_stopping]\n",
    "                                )\n",
    "\n"
   ]
  },
  {
   "cell_type": "code",
   "execution_count": 40,
   "id": "00a0f0e7",
   "metadata": {},
   "outputs": [
    {
     "data": {
      "image/png": "[encoded data removed]",
      "text/plain": [
       "<Figure size 432x288 with 1 Axes>"
      ]
     },
     "metadata": {
      "needs_background": "light"
     },
     "output_type": "display_data"
    }
   ],
   "source": [
    "plotData(history_early_stopping, \"loss\")"
   ]
  },
  {
   "cell_type": "code",
   "execution_count": 41,
   "id": "e6311d38",
   "metadata": {},
   "outputs": [
    {
     "name": "stdout",
     "output_type": "stream",
     "text": [
      "Epoch 1/50\n",
      "750/750 - 30s - loss: 1.0895 - accuracy: 0.8269 - val_loss: 0.2815 - val_accuracy: 0.9231 - 30s/epoch - 40ms/step\n",
      "Epoch 2/50\n",
      "750/750 - 28s - loss: 0.3166 - accuracy: 0.9115 - val_loss: 0.1695 - val_accuracy: 0.9567 - 28s/epoch - 38ms/step\n",
      "Epoch 3/50\n",
      "750/750 - 27s - loss: 0.2336 - accuracy: 0.9340 - val_loss: 0.1415 - val_accuracy: 0.9622 - 27s/epoch - 36ms/step\n",
      "Epoch 4/50\n",
      "750/750 - 25s - loss: 0.1841 - accuracy: 0.9464 - val_loss: 0.1345 - val_accuracy: 0.9644 - 25s/epoch - 33ms/step\n",
      "Epoch 5/50\n",
      "750/750 - 24s - loss: 0.1596 - accuracy: 0.9528 - val_loss: 0.1315 - val_accuracy: 0.9676 - 24s/epoch - 32ms/step\n",
      "Epoch 6/50\n",
      "750/750 - 24s - loss: 0.1420 - accuracy: 0.9586 - val_loss: 0.1136 - val_accuracy: 0.9713 - 24s/epoch - 32ms/step\n",
      "Epoch 7/50\n",
      "750/750 - 24s - loss: 0.1243 - accuracy: 0.9637 - val_loss: 0.1420 - val_accuracy: 0.9703 - 24s/epoch - 32ms/step\n",
      "Epoch 8/50\n",
      "750/750 - 25s - loss: 0.1227 - accuracy: 0.9647 - val_loss: 0.1206 - val_accuracy: 0.9707 - 25s/epoch - 33ms/step\n",
      "Epoch 9/50\n",
      "750/750 - 25s - loss: 0.1085 - accuracy: 0.9681 - val_loss: 0.1408 - val_accuracy: 0.9707 - 25s/epoch - 33ms/step\n"
     ]
    }
   ],
   "source": [
    "# yeniden model oluşturma:\n",
    "\n",
    "model=mnist_model(input_shape)\n",
    "early_stopping_1=EarlyStopping(\n",
    "                                monitor=\"val_accuracy\",#izleyeceğimiz değer\n",
    "                                patience=3, #herhangi bir gelişme olmasa da 3 adm devam eder.\n",
    "                                min_delta=0.001, # 0.001'lik bir değişimi iyileşme olarak kabul eder.\n",
    "                                mode=\"auto\" #eğrinin özelliğine göre otomatik olarak takip eder\n",
    ")\n",
    "\n",
    "history_early_stopping_1=model.fit(\n",
    "                                x=train_images,\n",
    "                                y=train_labels,\n",
    "                                epochs=50,\n",
    "                                validation_split=0.20,\n",
    "                                batch_size=64,\n",
    "                                verbose=2,\n",
    "                                callbacks=[early_stopping_1]\n",
    "                        )\n"
   ]
  },
  {
   "cell_type": "code",
   "execution_count": 42,
   "id": "0defbf32",
   "metadata": {},
   "outputs": [
    {
     "data": {
      "image/png": "[encoded data removed]",
      "text/plain": [
       "<Figure size 432x288 with 1 Axes>"
      ]
     },
     "metadata": {
      "needs_background": "light"
     },
     "output_type": "display_data"
    }
   ],
   "source": [
    "plotData(history_early_stopping_1,\"accuracy\" )"
   ]
  },
  {
   "cell_type": "code",
   "execution_count": 43,
   "id": "9e65057f",
   "metadata": {},
   "outputs": [
    {
     "name": "stdout",
     "output_type": "stream",
     "text": [
      "Epoch 1/20\n",
      "750/750 - 32s - loss: 1.0998 - accuracy: 0.8404 - val_loss: 0.2503 - val_accuracy: 0.9383 - 32s/epoch - 42ms/step\n",
      "Epoch 2/20\n",
      "750/750 - 30s - loss: 0.3163 - accuracy: 0.9113 - val_loss: 0.1962 - val_accuracy: 0.9494 - 30s/epoch - 40ms/step\n",
      "Epoch 3/20\n",
      "750/750 - 29s - loss: 0.2255 - accuracy: 0.9362 - val_loss: 0.1659 - val_accuracy: 0.9616 - 29s/epoch - 39ms/step\n",
      "Epoch 4/20\n",
      "750/750 - 31s - loss: 0.1880 - accuracy: 0.9467 - val_loss: 0.1428 - val_accuracy: 0.9637 - 31s/epoch - 41ms/step\n",
      "Epoch 5/20\n",
      "750/750 - 32s - loss: 0.1619 - accuracy: 0.9517 - val_loss: 0.1431 - val_accuracy: 0.9653 - 32s/epoch - 42ms/step\n",
      "Epoch 6/20\n",
      "750/750 - 34s - loss: 0.1406 - accuracy: 0.9581 - val_loss: 0.1276 - val_accuracy: 0.9707 - 34s/epoch - 45ms/step\n",
      "Epoch 7/20\n",
      "750/750 - 33s - loss: 0.1405 - accuracy: 0.9603 - val_loss: 0.1382 - val_accuracy: 0.9685 - 33s/epoch - 43ms/step\n",
      "Epoch 8/20\n",
      "750/750 - 29s - loss: 0.1234 - accuracy: 0.9647 - val_loss: 0.1470 - val_accuracy: 0.9693 - 29s/epoch - 38ms/step\n",
      "Epoch 9/20\n",
      "750/750 - 16s - loss: 0.1235 - accuracy: 0.9641 - val_loss: 0.1246 - val_accuracy: 0.9710 - 16s/epoch - 22ms/step\n",
      "Epoch 10/20\n",
      "750/750 - 23s - loss: 0.1073 - accuracy: 0.9690 - val_loss: 0.1119 - val_accuracy: 0.9747 - 23s/epoch - 31ms/step\n",
      "Epoch 11/20\n",
      "750/750 - 27s - loss: 0.0968 - accuracy: 0.9716 - val_loss: 0.1182 - val_accuracy: 0.9733 - 27s/epoch - 35ms/step\n",
      "Epoch 12/20\n",
      "750/750 - 22s - loss: 0.0978 - accuracy: 0.9720 - val_loss: 0.1458 - val_accuracy: 0.9712 - 22s/epoch - 29ms/step\n",
      "Epoch 13/20\n",
      "750/750 - 20s - loss: 0.0968 - accuracy: 0.9731 - val_loss: 0.1274 - val_accuracy: 0.9747 - 20s/epoch - 27ms/step\n",
      "Epoch 14/20\n",
      "750/750 - 27s - loss: 0.0882 - accuracy: 0.9752 - val_loss: 0.1439 - val_accuracy: 0.9743 - 27s/epoch - 36ms/step\n",
      "Epoch 15/20\n",
      "750/750 - 23s - loss: 0.0862 - accuracy: 0.9759 - val_loss: 0.1520 - val_accuracy: 0.9711 - 23s/epoch - 31ms/step\n",
      "Epoch 16/20\n",
      "750/750 - 21s - loss: 0.0864 - accuracy: 0.9767 - val_loss: 0.1324 - val_accuracy: 0.9776 - 21s/epoch - 28ms/step\n",
      "Epoch 17/20\n",
      "750/750 - 20s - loss: 0.0880 - accuracy: 0.9771 - val_loss: 0.1374 - val_accuracy: 0.9770 - 20s/epoch - 26ms/step\n",
      "Epoch 18/20\n",
      "750/750 - 16s - loss: 0.0899 - accuracy: 0.9758 - val_loss: 0.1977 - val_accuracy: 0.9729 - 16s/epoch - 22ms/step\n",
      "Epoch 19/20\n",
      "750/750 - 23s - loss: 0.0772 - accuracy: 0.9791 - val_loss: 0.1430 - val_accuracy: 0.9766 - 23s/epoch - 31ms/step\n",
      "Epoch 20/20\n",
      "750/750 - 21s - loss: 0.0757 - accuracy: 0.9796 - val_loss: 0.1819 - val_accuracy: 0.9735 - 21s/epoch - 28ms/step\n"
     ]
    }
   ],
   "source": [
    "from keras.callbacks import CSVLogger\n",
    "\n",
    "csv=CSVLogger(\"logs/result.csv\")\n",
    "model=mnist_model(input_shape)\n",
    "\n",
    "history_csv_logger=model.fit(\n",
    "                                x=train_images,\n",
    "                                y=train_labels,\n",
    "                                epochs=20,\n",
    "                                validation_split=0.20,\n",
    "                                batch_size=64,\n",
    "                                verbose=2,\n",
    "                                callbacks=[csv]\n",
    "                            )\n"
   ]
  },
  {
   "cell_type": "code",
   "execution_count": 46,
   "id": "9ea5975e",
   "metadata": {},
   "outputs": [
    {
     "data": {
      "text/html": [
       "<div>\n",
       "<style scoped>\n",
       "    .dataframe tbody tr th:only-of-type {\n",
       "        vertical-align: middle;\n",
       "    }\n",
       "\n",
       "    .dataframe tbody tr th {\n",
       "        vertical-align: top;\n",
       "    }\n",
       "\n",
       "    .dataframe thead th {\n",
       "        text-align: right;\n",
       "    }\n",
       "</style>\n",
       "<table border=\"1\" class=\"dataframe\">\n",
       "  <thead>\n",
       "    <tr style=\"text-align: right;\">\n",
       "      <th></th>\n",
       "      <th>accuracy</th>\n",
       "      <th>loss</th>\n",
       "      <th>val_accuracy</th>\n",
       "      <th>val_loss</th>\n",
       "    </tr>\n",
       "    <tr>\n",
       "      <th>epoch</th>\n",
       "      <th></th>\n",
       "      <th></th>\n",
       "      <th></th>\n",
       "      <th></th>\n",
       "    </tr>\n",
       "  </thead>\n",
       "  <tbody>\n",
       "    <tr>\n",
       "      <th>0</th>\n",
       "      <td>0.840354</td>\n",
       "      <td>1.099781</td>\n",
       "      <td>0.938333</td>\n",
       "      <td>0.250347</td>\n",
       "    </tr>\n",
       "    <tr>\n",
       "      <th>1</th>\n",
       "      <td>0.911333</td>\n",
       "      <td>0.316336</td>\n",
       "      <td>0.949417</td>\n",
       "      <td>0.196172</td>\n",
       "    </tr>\n",
       "    <tr>\n",
       "      <th>2</th>\n",
       "      <td>0.936250</td>\n",
       "      <td>0.225515</td>\n",
       "      <td>0.961583</td>\n",
       "      <td>0.165945</td>\n",
       "    </tr>\n",
       "    <tr>\n",
       "      <th>3</th>\n",
       "      <td>0.946667</td>\n",
       "      <td>0.188043</td>\n",
       "      <td>0.963667</td>\n",
       "      <td>0.142794</td>\n",
       "    </tr>\n",
       "    <tr>\n",
       "      <th>4</th>\n",
       "      <td>0.951708</td>\n",
       "      <td>0.161912</td>\n",
       "      <td>0.965250</td>\n",
       "      <td>0.143070</td>\n",
       "    </tr>\n",
       "    <tr>\n",
       "      <th>5</th>\n",
       "      <td>0.958063</td>\n",
       "      <td>0.140634</td>\n",
       "      <td>0.970750</td>\n",
       "      <td>0.127572</td>\n",
       "    </tr>\n",
       "    <tr>\n",
       "      <th>6</th>\n",
       "      <td>0.960333</td>\n",
       "      <td>0.140469</td>\n",
       "      <td>0.968500</td>\n",
       "      <td>0.138193</td>\n",
       "    </tr>\n",
       "    <tr>\n",
       "      <th>7</th>\n",
       "      <td>0.964729</td>\n",
       "      <td>0.123408</td>\n",
       "      <td>0.969250</td>\n",
       "      <td>0.147037</td>\n",
       "    </tr>\n",
       "    <tr>\n",
       "      <th>8</th>\n",
       "      <td>0.964083</td>\n",
       "      <td>0.123505</td>\n",
       "      <td>0.971000</td>\n",
       "      <td>0.124649</td>\n",
       "    </tr>\n",
       "    <tr>\n",
       "      <th>9</th>\n",
       "      <td>0.969021</td>\n",
       "      <td>0.107277</td>\n",
       "      <td>0.974667</td>\n",
       "      <td>0.111928</td>\n",
       "    </tr>\n",
       "    <tr>\n",
       "      <th>10</th>\n",
       "      <td>0.971563</td>\n",
       "      <td>0.096777</td>\n",
       "      <td>0.973333</td>\n",
       "      <td>0.118196</td>\n",
       "    </tr>\n",
       "    <tr>\n",
       "      <th>11</th>\n",
       "      <td>0.971979</td>\n",
       "      <td>0.097799</td>\n",
       "      <td>0.971250</td>\n",
       "      <td>0.145836</td>\n",
       "    </tr>\n",
       "    <tr>\n",
       "      <th>12</th>\n",
       "      <td>0.973146</td>\n",
       "      <td>0.096770</td>\n",
       "      <td>0.974750</td>\n",
       "      <td>0.127381</td>\n",
       "    </tr>\n",
       "    <tr>\n",
       "      <th>13</th>\n",
       "      <td>0.975229</td>\n",
       "      <td>0.088238</td>\n",
       "      <td>0.974250</td>\n",
       "      <td>0.143856</td>\n",
       "    </tr>\n",
       "    <tr>\n",
       "      <th>14</th>\n",
       "      <td>0.975896</td>\n",
       "      <td>0.086250</td>\n",
       "      <td>0.971083</td>\n",
       "      <td>0.152034</td>\n",
       "    </tr>\n",
       "    <tr>\n",
       "      <th>15</th>\n",
       "      <td>0.976708</td>\n",
       "      <td>0.086365</td>\n",
       "      <td>0.977583</td>\n",
       "      <td>0.132400</td>\n",
       "    </tr>\n",
       "    <tr>\n",
       "      <th>16</th>\n",
       "      <td>0.977083</td>\n",
       "      <td>0.087995</td>\n",
       "      <td>0.977000</td>\n",
       "      <td>0.137374</td>\n",
       "    </tr>\n",
       "    <tr>\n",
       "      <th>17</th>\n",
       "      <td>0.975792</td>\n",
       "      <td>0.089867</td>\n",
       "      <td>0.972917</td>\n",
       "      <td>0.197707</td>\n",
       "    </tr>\n",
       "    <tr>\n",
       "      <th>18</th>\n",
       "      <td>0.979146</td>\n",
       "      <td>0.077192</td>\n",
       "      <td>0.976583</td>\n",
       "      <td>0.143001</td>\n",
       "    </tr>\n",
       "    <tr>\n",
       "      <th>19</th>\n",
       "      <td>0.979604</td>\n",
       "      <td>0.075690</td>\n",
       "      <td>0.973500</td>\n",
       "      <td>0.181949</td>\n",
       "    </tr>\n",
       "  </tbody>\n",
       "</table>\n",
       "</div>"
      ],
      "text/plain": [
       "       accuracy      loss  val_accuracy  val_loss\n",
       "epoch                                            \n",
       "0      0.840354  1.099781      0.938333  0.250347\n",
       "1      0.911333  0.316336      0.949417  0.196172\n",
       "2      0.936250  0.225515      0.961583  0.165945\n",
       "3      0.946667  0.188043      0.963667  0.142794\n",
       "4      0.951708  0.161912      0.965250  0.143070\n",
       "5      0.958063  0.140634      0.970750  0.127572\n",
       "6      0.960333  0.140469      0.968500  0.138193\n",
       "7      0.964729  0.123408      0.969250  0.147037\n",
       "8      0.964083  0.123505      0.971000  0.124649\n",
       "9      0.969021  0.107277      0.974667  0.111928\n",
       "10     0.971563  0.096777      0.973333  0.118196\n",
       "11     0.971979  0.097799      0.971250  0.145836\n",
       "12     0.973146  0.096770      0.974750  0.127381\n",
       "13     0.975229  0.088238      0.974250  0.143856\n",
       "14     0.975896  0.086250      0.971083  0.152034\n",
       "15     0.976708  0.086365      0.977583  0.132400\n",
       "16     0.977083  0.087995      0.977000  0.137374\n",
       "17     0.975792  0.089867      0.972917  0.197707\n",
       "18     0.979146  0.077192      0.976583  0.143001\n",
       "19     0.979604  0.075690      0.973500  0.181949"
      ]
     },
     "execution_count": 46,
     "metadata": {},
     "output_type": "execute_result"
    }
   ],
   "source": [
    "#!pip install pandas\n",
    "import pandas as pd\n",
    "\n",
    "pd.read_csv(\"logs/result.csv\",index_col=\"epoch\")"
   ]
  },
  {
   "cell_type": "code",
   "execution_count": 50,
   "id": "9b765783",
   "metadata": {},
   "outputs": [
    {
     "name": "stdout",
     "output_type": "stream",
     "text": [
      "Epoch 1/10\n",
      "\n",
      "Epoch 1: saving model to models\\\n",
      "750/750 - 28s - loss: 1.6165 - accuracy: 0.7934 - val_loss: 0.3227 - val_accuracy: 0.9203 - 28s/epoch - 37ms/step\n",
      "Epoch 2/10\n",
      "\n",
      "Epoch 2: saving model to models\\\n",
      "750/750 - 28s - loss: 0.4180 - accuracy: 0.8911 - val_loss: 0.2301 - val_accuracy: 0.9447 - 28s/epoch - 38ms/step\n",
      "Epoch 3/10\n",
      "\n",
      "Epoch 3: saving model to models\\\n",
      "750/750 - 23s - loss: 0.2943 - accuracy: 0.9214 - val_loss: 0.1899 - val_accuracy: 0.9553 - 23s/epoch - 31ms/step\n",
      "Epoch 4/10\n",
      "\n",
      "Epoch 4: saving model to models\\\n",
      "750/750 - 20s - loss: 0.2310 - accuracy: 0.9360 - val_loss: 0.1779 - val_accuracy: 0.9547 - 20s/epoch - 27ms/step\n",
      "Epoch 5/10\n",
      "\n",
      "Epoch 5: saving model to models\\\n",
      "750/750 - 25s - loss: 0.1859 - accuracy: 0.9474 - val_loss: 0.1742 - val_accuracy: 0.9611 - 25s/epoch - 33ms/step\n",
      "Epoch 6/10\n",
      "\n",
      "Epoch 6: saving model to models\\\n",
      "750/750 - 24s - loss: 0.1711 - accuracy: 0.9526 - val_loss: 0.1620 - val_accuracy: 0.9665 - 24s/epoch - 33ms/step\n",
      "Epoch 7/10\n",
      "\n",
      "Epoch 7: saving model to models\\\n",
      "750/750 - 23s - loss: 0.1498 - accuracy: 0.9566 - val_loss: 0.1272 - val_accuracy: 0.9704 - 23s/epoch - 31ms/step\n",
      "Epoch 8/10\n",
      "\n",
      "Epoch 8: saving model to models\\\n",
      "750/750 - 24s - loss: 0.1343 - accuracy: 0.9612 - val_loss: 0.1412 - val_accuracy: 0.9677 - 24s/epoch - 32ms/step\n",
      "Epoch 9/10\n",
      "\n",
      "Epoch 9: saving model to models\\\n",
      "750/750 - 23s - loss: 0.1284 - accuracy: 0.9630 - val_loss: 0.1485 - val_accuracy: 0.9687 - 23s/epoch - 31ms/step\n",
      "Epoch 10/10\n",
      "\n",
      "Epoch 10: saving model to models\\\n",
      "750/750 - 15s - loss: 0.1242 - accuracy: 0.9644 - val_loss: 0.1702 - val_accuracy: 0.9698 - 15s/epoch - 20ms/step\n"
     ]
    }
   ],
   "source": [
    "from keras.callbacks import ModelCheckpoint\n",
    "path=\"models/\"\n",
    "checkpoint=ModelCheckpoint(\n",
    "                           filepath= path,\n",
    "                           save_freq= \"epoch\",\n",
    "                           save_weights_only=True,\n",
    "                           verbose=1\n",
    "                           )\n",
    "\n",
    "model=mnist_model(input_shape)\n",
    "\n",
    "history_checkpoint=model.fit(\n",
    "                                x=train_images,\n",
    "                                y=train_labels,\n",
    "                                epochs=10,\n",
    "                                validation_split=0.20,\n",
    "                                batch_size=64,\n",
    "                                verbose=2,\n",
    "                                callbacks=[checkpoint]\n",
    "                            )"
   ]
  },
  {
   "cell_type": "code",
   "execution_count": 52,
   "id": "29bdeb93",
   "metadata": {},
   "outputs": [
    {
     "name": "stdout",
     "output_type": "stream",
     "text": [
      "Epoch 1/20\n",
      "750/750 - 27s - loss: 1.1173 - accuracy: 0.8199 - val_loss: 0.3374 - val_accuracy: 0.9218 - lr: 0.0010 - 27s/epoch - 36ms/step\n",
      "Epoch 2/20\n",
      "750/750 - 24s - loss: 0.3243 - accuracy: 0.9108 - val_loss: 0.1807 - val_accuracy: 0.9551 - lr: 0.0010 - 24s/epoch - 32ms/step\n",
      "Epoch 3/20\n",
      "750/750 - 24s - loss: 0.2196 - accuracy: 0.9383 - val_loss: 0.1508 - val_accuracy: 0.9635 - lr: 0.0010 - 24s/epoch - 32ms/step\n",
      "Epoch 4/20\n",
      "750/750 - 24s - loss: 0.1741 - accuracy: 0.9500 - val_loss: 0.1394 - val_accuracy: 0.9657 - lr: 0.0010 - 24s/epoch - 32ms/step\n",
      "Epoch 5/20\n",
      "750/750 - 23s - loss: 0.1522 - accuracy: 0.9551 - val_loss: 0.1479 - val_accuracy: 0.9668 - lr: 0.0010 - 23s/epoch - 30ms/step\n",
      "Epoch 6/20\n",
      "750/750 - 21s - loss: 0.1373 - accuracy: 0.9603 - val_loss: 0.1152 - val_accuracy: 0.9717 - lr: 0.0010 - 21s/epoch - 28ms/step\n",
      "Epoch 7/20\n",
      "750/750 - 19s - loss: 0.1280 - accuracy: 0.9631 - val_loss: 0.1259 - val_accuracy: 0.9693 - lr: 0.0010 - 19s/epoch - 26ms/step\n",
      "Epoch 8/20\n",
      "750/750 - 20s - loss: 0.1226 - accuracy: 0.9647 - val_loss: 0.1242 - val_accuracy: 0.9718 - lr: 0.0010 - 20s/epoch - 26ms/step\n",
      "Epoch 9/20\n",
      "750/750 - 22s - loss: 0.1093 - accuracy: 0.9680 - val_loss: 0.1529 - val_accuracy: 0.9675 - lr: 0.0010 - 22s/epoch - 29ms/step\n",
      "Epoch 10/20\n",
      "750/750 - 20s - loss: 0.1137 - accuracy: 0.9663 - val_loss: 0.1129 - val_accuracy: 0.9713 - lr: 0.0010 - 20s/epoch - 27ms/step\n",
      "Epoch 11/20\n",
      "750/750 - 22s - loss: 0.1036 - accuracy: 0.9696 - val_loss: 0.1701 - val_accuracy: 0.9722 - lr: 0.0010 - 22s/epoch - 29ms/step\n",
      "Epoch 12/20\n",
      "750/750 - 17s - loss: 0.0977 - accuracy: 0.9718 - val_loss: 0.1422 - val_accuracy: 0.9722 - lr: 0.0010 - 17s/epoch - 23ms/step\n",
      "Epoch 13/20\n",
      "750/750 - 14s - loss: 0.0877 - accuracy: 0.9750 - val_loss: 0.1482 - val_accuracy: 0.9720 - lr: 0.0010 - 14s/epoch - 18ms/step\n",
      "Epoch 14/20\n",
      "750/750 - 13s - loss: 0.0880 - accuracy: 0.9745 - val_loss: 0.1369 - val_accuracy: 0.9759 - lr: 0.0010 - 13s/epoch - 17ms/step\n",
      "Epoch 15/20\n",
      "750/750 - 13s - loss: 0.0913 - accuracy: 0.9745 - val_loss: 0.1241 - val_accuracy: 0.9731 - lr: 0.0010 - 13s/epoch - 17ms/step\n",
      "Epoch 16/20\n",
      "750/750 - 14s - loss: 0.0930 - accuracy: 0.9747 - val_loss: 0.1483 - val_accuracy: 0.9703 - lr: 0.0010 - 14s/epoch - 18ms/step\n",
      "Epoch 17/20\n",
      "750/750 - 13s - loss: 0.0830 - accuracy: 0.9765 - val_loss: 0.1454 - val_accuracy: 0.9701 - lr: 0.0010 - 13s/epoch - 18ms/step\n",
      "Epoch 18/20\n",
      "750/750 - 13s - loss: 0.0849 - accuracy: 0.9765 - val_loss: 0.1317 - val_accuracy: 0.9747 - lr: 0.0010 - 13s/epoch - 17ms/step\n",
      "Epoch 19/20\n",
      "750/750 - 14s - loss: 0.0798 - accuracy: 0.9781 - val_loss: 0.1503 - val_accuracy: 0.9775 - lr: 0.0010 - 14s/epoch - 19ms/step\n",
      "Epoch 20/20\n",
      "750/750 - 24s - loss: 0.0839 - accuracy: 0.9778 - val_loss: 0.1299 - val_accuracy: 0.9766 - lr: 0.0010 - 24s/epoch - 32ms/step\n"
     ]
    }
   ],
   "source": [
    "from keras.callbacks import ReduceLROnPlateau\n",
    "\n",
    "reduce_lr=ReduceLROnPlateau(\n",
    "                           monitor= \"val_loss\",\n",
    "                           factor= 0.2,\n",
    "                           patience=2,\n",
    "                           min_lr=0.001,\n",
    "                           verbose=1\n",
    "                           )\n",
    "\n",
    "model=mnist_model(input_shape)\n",
    "\n",
    "history_reduce_lr=model.fit(\n",
    "                                x=train_images,\n",
    "                                y=train_labels,\n",
    "                                epochs=20,\n",
    "                                validation_split=0.20,\n",
    "                                batch_size=64,\n",
    "                                verbose=2,\n",
    "                                callbacks=[reduce_lr]\n",
    "                            )"
   ]
  },
  {
   "cell_type": "code",
   "execution_count": 53,
   "id": "da33ca48",
   "metadata": {},
   "outputs": [
    {
     "data": {
      "image/png": "[encoded data removed]",
      "text/plain": [
       "<Figure size 432x288 with 1 Axes>"
      ]
     },
     "metadata": {
      "needs_background": "light"
     },
     "output_type": "display_data"
    },
    {
     "data": {
      "image/png": "[encoded data removed]",
      "text/plain": [
       "<Figure size 432x288 with 1 Axes>"
      ]
     },
     "metadata": {
      "needs_background": "light"
     },
     "output_type": "display_data"
    }
   ],
   "source": [
    "plotLR(history_reduce_lr)\n",
    "plotData(history_reduce_lr,\"loss\")"
   ]
  },
  {
   "cell_type": "code",
   "execution_count": 56,
   "id": "80e8862d",
   "metadata": {},
   "outputs": [
    {
     "name": "stdout",
     "output_type": "stream",
     "text": [
      "\n",
      "Epoch 1: LearningRateScheduler setting learning rate to 0.0010000000474974513.\n",
      "Epoch 1/20\n",
      "750/750 - 28s - loss: 1.5147 - accuracy: 0.7964 - val_loss: 0.3214 - val_accuracy: 0.9217 - lr: 0.0010 - 28s/epoch - 37ms/step\n",
      "\n",
      "Epoch 2: LearningRateScheduler setting learning rate to 0.0010000000474974513.\n",
      "Epoch 2/20\n",
      "750/750 - 21s - loss: 0.3959 - accuracy: 0.8947 - val_loss: 0.2133 - val_accuracy: 0.9475 - lr: 0.0010 - 21s/epoch - 28ms/step\n",
      "\n",
      "Epoch 3: LearningRateScheduler setting learning rate to 0.0010000000474974513.\n",
      "Epoch 3/20\n",
      "750/750 - 19s - loss: 0.2802 - accuracy: 0.9213 - val_loss: 0.1755 - val_accuracy: 0.9559 - lr: 0.0010 - 19s/epoch - 26ms/step\n",
      "\n",
      "Epoch 4: LearningRateScheduler setting learning rate to 0.0010000000474974513.\n",
      "Epoch 4/20\n",
      "750/750 - 26s - loss: 0.2332 - accuracy: 0.9352 - val_loss: 0.1439 - val_accuracy: 0.9635 - lr: 0.0010 - 26s/epoch - 34ms/step\n",
      "\n",
      "Epoch 5: LearningRateScheduler setting learning rate to 0.0010000000474974513.\n",
      "Epoch 5/20\n",
      "750/750 - 24s - loss: 0.1945 - accuracy: 0.9449 - val_loss: 0.1377 - val_accuracy: 0.9661 - lr: 0.0010 - 24s/epoch - 31ms/step\n",
      "\n",
      "Epoch 6: LearningRateScheduler setting learning rate to 0.0010000000474974513.\n",
      "Epoch 6/20\n",
      "750/750 - 23s - loss: 0.1669 - accuracy: 0.9532 - val_loss: 0.1276 - val_accuracy: 0.9690 - lr: 0.0010 - 23s/epoch - 30ms/step\n",
      "\n",
      "Epoch 7: LearningRateScheduler setting learning rate to 0.0010000000474974513.\n",
      "Epoch 7/20\n",
      "750/750 - 16s - loss: 0.1530 - accuracy: 0.9580 - val_loss: 0.1342 - val_accuracy: 0.9690 - lr: 0.0010 - 16s/epoch - 22ms/step\n",
      "\n",
      "Epoch 8: LearningRateScheduler setting learning rate to 0.0010000000474974513.\n",
      "Epoch 8/20\n",
      "750/750 - 14s - loss: 0.1427 - accuracy: 0.9600 - val_loss: 0.1143 - val_accuracy: 0.9726 - lr: 0.0010 - 14s/epoch - 19ms/step\n",
      "\n",
      "Epoch 9: LearningRateScheduler setting learning rate to 0.0010000000474974513.\n",
      "Epoch 9/20\n",
      "750/750 - 16s - loss: 0.1245 - accuracy: 0.9654 - val_loss: 0.1116 - val_accuracy: 0.9722 - lr: 0.0010 - 16s/epoch - 22ms/step\n",
      "\n",
      "Epoch 10: LearningRateScheduler setting learning rate to 0.0010000000474974513.\n",
      "Epoch 10/20\n",
      "750/750 - 16s - loss: 0.1202 - accuracy: 0.9656 - val_loss: 0.1393 - val_accuracy: 0.9732 - lr: 0.0010 - 16s/epoch - 21ms/step\n",
      "\n",
      "Epoch 11: LearningRateScheduler setting learning rate to 0.0009048374486155808.\n",
      "Epoch 11/20\n",
      "750/750 - 14s - loss: 0.1079 - accuracy: 0.9700 - val_loss: 0.1157 - val_accuracy: 0.9743 - lr: 9.0484e-04 - 14s/epoch - 19ms/step\n",
      "\n",
      "Epoch 12: LearningRateScheduler setting learning rate to 0.0008187307976186275.\n",
      "Epoch 12/20\n",
      "750/750 - 15s - loss: 0.0963 - accuracy: 0.9728 - val_loss: 0.1133 - val_accuracy: 0.9750 - lr: 8.1873e-04 - 15s/epoch - 20ms/step\n",
      "\n",
      "Epoch 13: LearningRateScheduler setting learning rate to 0.0007408182718791068.\n",
      "Epoch 13/20\n",
      "750/750 - 15s - loss: 0.0842 - accuracy: 0.9758 - val_loss: 0.1255 - val_accuracy: 0.9753 - lr: 7.4082e-04 - 15s/epoch - 19ms/step\n",
      "\n",
      "Epoch 14: LearningRateScheduler setting learning rate to 0.0006703201215714216.\n",
      "Epoch 14/20\n",
      "750/750 - 15s - loss: 0.0682 - accuracy: 0.9795 - val_loss: 0.1592 - val_accuracy: 0.9728 - lr: 6.7032e-04 - 15s/epoch - 20ms/step\n",
      "\n",
      "Epoch 15: LearningRateScheduler setting learning rate to 0.0006065307534299791.\n",
      "Epoch 15/20\n",
      "750/750 - 15s - loss: 0.0669 - accuracy: 0.9809 - val_loss: 0.1321 - val_accuracy: 0.9751 - lr: 6.0653e-04 - 15s/epoch - 20ms/step\n",
      "\n",
      "Epoch 16: LearningRateScheduler setting learning rate to 0.0005488117458298802.\n",
      "Epoch 16/20\n",
      "750/750 - 14s - loss: 0.0592 - accuracy: 0.9819 - val_loss: 0.1204 - val_accuracy: 0.9749 - lr: 5.4881e-04 - 14s/epoch - 19ms/step\n",
      "\n",
      "Epoch 17: LearningRateScheduler setting learning rate to 0.0004965853877365589.\n",
      "Epoch 17/20\n",
      "750/750 - 24s - loss: 0.0553 - accuracy: 0.9838 - val_loss: 0.1607 - val_accuracy: 0.9766 - lr: 4.9659e-04 - 24s/epoch - 32ms/step\n",
      "\n",
      "Epoch 18: LearningRateScheduler setting learning rate to 0.0004493290325626731.\n",
      "Epoch 18/20\n",
      "750/750 - 17s - loss: 0.0487 - accuracy: 0.9857 - val_loss: 0.1314 - val_accuracy: 0.9767 - lr: 4.4933e-04 - 17s/epoch - 22ms/step\n",
      "\n",
      "Epoch 19: LearningRateScheduler setting learning rate to 0.0004065697139594704.\n",
      "Epoch 19/20\n",
      "750/750 - 23s - loss: 0.0415 - accuracy: 0.9883 - val_loss: 0.1171 - val_accuracy: 0.9793 - lr: 4.0657e-04 - 23s/epoch - 31ms/step\n",
      "\n",
      "Epoch 20: LearningRateScheduler setting learning rate to 0.000367879489203915.\n",
      "Epoch 20/20\n",
      "750/750 - 22s - loss: 0.0393 - accuracy: 0.9882 - val_loss: 0.1206 - val_accuracy: 0.9797 - lr: 3.6788e-04 - 22s/epoch - 30ms/step\n"
     ]
    }
   ],
   "source": [
    "from keras.callbacks import LearningRateScheduler\n",
    "import tensorflow as tf\n",
    "\n",
    "def scheduler(epoch, lr):\n",
    "    if epoch < 10:\n",
    "        return lr\n",
    "    else:\n",
    "        return lr * tf.math.exp(-0.1)\n",
    "\n",
    "    \n",
    "model=mnist_model(input_shape)\n",
    "\n",
    "history_lr_scheduler=model.fit(\n",
    "                                x=train_images,\n",
    "                                y=train_labels,\n",
    "                                epochs=20,\n",
    "                                validation_split=0.20,\n",
    "                                batch_size=64,\n",
    "                                verbose=2,\n",
    "                                callbacks=[LearningRateScheduler(scheduler,verbose=1)]\n",
    "                            )\n"
   ]
  },
  {
   "cell_type": "code",
   "execution_count": 57,
   "id": "0d206e0a",
   "metadata": {},
   "outputs": [
    {
     "data": {
      "image/png": "[encoded data removed]",
      "text/plain": [
       "<Figure size 432x288 with 1 Axes>"
      ]
     },
     "metadata": {
      "needs_background": "light"
     },
     "output_type": "display_data"
    },
    {
     "data": {
      "image/png": "[encoded data removed]",
      "text/plain": [
       "<Figure size 432x288 with 1 Axes>"
      ]
     },
     "metadata": {
      "needs_background": "light"
     },
     "output_type": "display_data"
    }
   ],
   "source": [
    "plotLR(history_lr_scheduler)\n",
    "plotData(history_lr_scheduler,\"loss\")"
   ]
  },
  {
   "cell_type": "code",
   "execution_count": null,
   "id": "4affc1b0",
   "metadata": {},
   "outputs": [],
   "source": []
  }
 ],
 "metadata": {
  "kernelspec": {
   "display_name": "Python 3 (ipykernel)",
   "language": "python",
   "name": "python3"
  },
  "language_info": {
   "codemirror_mode": {
    "name": "ipython",
    "version": 3
   },
   "file_extension": ".py",
   "mimetype": "text/x-python",
   "name": "python",
   "nbconvert_exporter": "python",
   "pygments_lexer": "ipython3",
   "version": "3.9.7"
  }
 },
 "nbformat": 4,
 "nbformat_minor": 5
}
